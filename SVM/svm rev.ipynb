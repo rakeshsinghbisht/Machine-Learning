{
 "cells": [
  {
   "cell_type": "code",
   "execution_count": 1,
   "metadata": {},
   "outputs": [],
   "source": [
    "#importing the libraries\n",
    "import numpy as np\n",
    "import pandas as pd\n",
    "import matplotlib.pyplot as plt\n",
    "%matplotlib inline"
   ]
  },
  {
   "cell_type": "code",
   "execution_count": 2,
   "metadata": {},
   "outputs": [],
   "source": [
    "data = pd.read_csv('E:\\machine\\MachineLearning\\DataSets\\Social_Network_Ads.csv')"
   ]
  },
  {
   "cell_type": "code",
   "execution_count": 3,
   "metadata": {},
   "outputs": [
    {
     "data": {
      "text/html": [
       "<div>\n",
       "<style scoped>\n",
       "    .dataframe tbody tr th:only-of-type {\n",
       "        vertical-align: middle;\n",
       "    }\n",
       "\n",
       "    .dataframe tbody tr th {\n",
       "        vertical-align: top;\n",
       "    }\n",
       "\n",
       "    .dataframe thead th {\n",
       "        text-align: right;\n",
       "    }\n",
       "</style>\n",
       "<table border=\"1\" class=\"dataframe\">\n",
       "  <thead>\n",
       "    <tr style=\"text-align: right;\">\n",
       "      <th></th>\n",
       "      <th>User ID</th>\n",
       "      <th>Gender</th>\n",
       "      <th>Age</th>\n",
       "      <th>EstimatedSalary</th>\n",
       "      <th>Purchased</th>\n",
       "    </tr>\n",
       "  </thead>\n",
       "  <tbody>\n",
       "    <tr>\n",
       "      <th>0</th>\n",
       "      <td>15624510</td>\n",
       "      <td>Male</td>\n",
       "      <td>19</td>\n",
       "      <td>19000</td>\n",
       "      <td>0</td>\n",
       "    </tr>\n",
       "    <tr>\n",
       "      <th>1</th>\n",
       "      <td>15810944</td>\n",
       "      <td>Male</td>\n",
       "      <td>35</td>\n",
       "      <td>20000</td>\n",
       "      <td>0</td>\n",
       "    </tr>\n",
       "    <tr>\n",
       "      <th>2</th>\n",
       "      <td>15668575</td>\n",
       "      <td>Female</td>\n",
       "      <td>26</td>\n",
       "      <td>43000</td>\n",
       "      <td>0</td>\n",
       "    </tr>\n",
       "    <tr>\n",
       "      <th>3</th>\n",
       "      <td>15603246</td>\n",
       "      <td>Female</td>\n",
       "      <td>27</td>\n",
       "      <td>57000</td>\n",
       "      <td>0</td>\n",
       "    </tr>\n",
       "    <tr>\n",
       "      <th>4</th>\n",
       "      <td>15804002</td>\n",
       "      <td>Male</td>\n",
       "      <td>19</td>\n",
       "      <td>76000</td>\n",
       "      <td>0</td>\n",
       "    </tr>\n",
       "  </tbody>\n",
       "</table>\n",
       "</div>"
      ],
      "text/plain": [
       "    User ID  Gender  Age  EstimatedSalary  Purchased\n",
       "0  15624510    Male   19            19000          0\n",
       "1  15810944    Male   35            20000          0\n",
       "2  15668575  Female   26            43000          0\n",
       "3  15603246  Female   27            57000          0\n",
       "4  15804002    Male   19            76000          0"
      ]
     },
     "execution_count": 3,
     "metadata": {},
     "output_type": "execute_result"
    }
   ],
   "source": [
    "data.head()"
   ]
  },
  {
   "cell_type": "code",
   "execution_count": 4,
   "metadata": {},
   "outputs": [],
   "source": [
    "X = data.iloc[:,2:4].values"
   ]
  },
  {
   "cell_type": "code",
   "execution_count": 5,
   "metadata": {},
   "outputs": [],
   "source": [
    "y = data.iloc[:,4].values"
   ]
  },
  {
   "cell_type": "code",
   "execution_count": 6,
   "metadata": {},
   "outputs": [],
   "source": [
    "from sklearn.model_selection import train_test_split"
   ]
  },
  {
   "cell_type": "code",
   "execution_count": 7,
   "metadata": {},
   "outputs": [],
   "source": [
    "X_train,X_test,y_train,y_test = train_test_split(X,y,test_size = 0.2)"
   ]
  },
  {
   "cell_type": "code",
   "execution_count": 10,
   "metadata": {},
   "outputs": [],
   "source": [
    "from sklearn.preprocessing import StandardScaler"
   ]
  },
  {
   "cell_type": "code",
   "execution_count": 11,
   "metadata": {},
   "outputs": [],
   "source": [
    "sc = StandardScaler()"
   ]
  },
  {
   "cell_type": "code",
   "execution_count": 12,
   "metadata": {},
   "outputs": [
    {
     "name": "stderr",
     "output_type": "stream",
     "text": [
      "C:\\Users\\DELL\\Anaconda3\\lib\\site-packages\\sklearn\\utils\\validation.py:475: DataConversionWarning: Data with input dtype int64 was converted to float64 by StandardScaler.\n",
      "  warnings.warn(msg, DataConversionWarning)\n"
     ]
    }
   ],
   "source": [
    "X_train = sc.fit_transform(X_train)\n",
    "X_test = sc.transform(X_test)"
   ]
  },
  {
   "cell_type": "code",
   "execution_count": 13,
   "metadata": {},
   "outputs": [
    {
     "data": {
      "text/plain": [
       "array([[ 2.09125996, -0.74737904],\n",
       "       [-0.05272574, -1.13451598],\n",
       "       [ 2.09125996,  0.9202878 ],\n",
       "       [-1.0781102 , -0.56870045],\n",
       "       [-0.98489343, -0.41980162],\n",
       "       [ 1.0658755 , -0.1815635 ],\n",
       "       [-0.98489343,  0.56293062],\n",
       "       [-0.1459425 , -0.24112303],\n",
       "       [ 1.25230904,  2.23059745],\n",
       "       [-0.89167666,  1.54566286],\n",
       "       [-0.23915927,  0.02689485],\n",
       "       [-0.05272574,  0.65226991],\n",
       "       [ 0.97265873, -1.13451598],\n",
       "       [-0.79845989,  2.29015698],\n",
       "       [ 0.32014134, -0.36024209],\n",
       "       [ 1.0658755 , -1.2834148 ],\n",
       "       [ 1.43874258,  0.02689485],\n",
       "       [-0.70524312,  0.47359132],\n",
       "       [-1.26454374, -0.47936115],\n",
       "       [-1.35776051, -0.24112303],\n",
       "       [-0.51880958,  1.90302004],\n",
       "       [ 0.41335811, -0.03266468],\n",
       "       [ 1.43874258, -1.10473622],\n",
       "       [-0.1459425 , -0.62825998],\n",
       "       [ 1.34552581,  1.99235933],\n",
       "       [ 0.04049103, -0.00288491],\n",
       "       [ 0.22692457,  0.11623414],\n",
       "       [ 1.90482642, -1.43231363],\n",
       "       [ 0.1337078 ,  0.74160921],\n",
       "       [ 0.1337078 ,  0.2353532 ],\n",
       "       [-0.1459425 ,  1.39676404],\n",
       "       [ 0.69300842, -1.34297433],\n",
       "       [ 0.22692457,  2.11147839],\n",
       "       [-0.61202635,  0.14601391],\n",
       "       [-0.23915927,  0.02689485],\n",
       "       [-0.51880958, -1.58121245],\n",
       "       [-0.23915927,  0.59271038],\n",
       "       [ 1.0658755 ,  0.44381156],\n",
       "       [-0.79845989, -0.83671833],\n",
       "       [-0.23915927,  0.77138897],\n",
       "       [-1.26454374,  0.53315085],\n",
       "       [-1.0781102 , -1.64077198],\n",
       "       [-0.79845989, -0.30068256],\n",
       "       [ 1.71839288, -0.33046233],\n",
       "       [-0.05272574,  1.96257957],\n",
       "       [ 0.50657488,  1.84346051],\n",
       "       [-1.73062759, -1.3727541 ],\n",
       "       [-1.0781102 ,  0.44381156],\n",
       "       [-0.05272574,  0.20557344],\n",
       "       [-0.70524312,  0.26513297],\n",
       "       [-1.63741082,  0.3246925 ],\n",
       "       [-0.1459425 ,  1.60522239],\n",
       "       [ 0.22692457, -0.36024209],\n",
       "       [-1.54419405,  0.50337109],\n",
       "       [ 0.32014134,  0.02689485],\n",
       "       [ 0.97265873, -1.07495645],\n",
       "       [ 1.81160965, -0.33046233],\n",
       "       [-0.23915927,  0.05667462],\n",
       "       [ 1.43874258,  0.3246925 ],\n",
       "       [-0.1459425 ,  1.63500215],\n",
       "       [-1.35776051, -0.15178374],\n",
       "       [-1.0781102 ,  0.26513297],\n",
       "       [-0.05272574, -0.53892068],\n",
       "       [ 0.87944196,  1.24786521],\n",
       "       [-0.23915927,  0.50337109],\n",
       "       [ 0.87944196,  2.17103792],\n",
       "       [-1.82384435, -0.09222421],\n",
       "       [ 0.22692457, -0.41980162],\n",
       "       [ 0.97265873, -1.22385528],\n",
       "       [ 1.90482642,  0.89050803],\n",
       "       [-0.89167666, -1.16429575],\n",
       "       [-1.82384435,  0.3246925 ],\n",
       "       [ 0.87944196,  1.00962709],\n",
       "       [ 1.34552581, -0.98561716],\n",
       "       [-0.23915927,  2.26037722],\n",
       "       [ 1.81160965, -1.13451598],\n",
       "       [-1.0781102 , -1.16429575],\n",
       "       [ 1.71839288,  1.84346051],\n",
       "       [ 0.78622519,  0.74160921],\n",
       "       [-0.42559281, -0.83671833],\n",
       "       [ 0.41335811,  0.2353532 ],\n",
       "       [-0.79845989,  0.11623414],\n",
       "       [-1.73062759,  0.41403179],\n",
       "       [-0.70524312,  0.2353532 ],\n",
       "       [-1.45097728,  0.29491273],\n",
       "       [-1.0781102 , -1.22385528],\n",
       "       [ 2.09125996, -0.8664981 ],\n",
       "       [ 0.78622519,  0.50337109],\n",
       "       [ 0.87944196, -1.3727541 ],\n",
       "       [ 0.78622519, -0.36024209],\n",
       "       [ 1.62517612,  1.75412121],\n",
       "       [-0.05272574,  2.23059745],\n",
       "       [ 1.99804319,  2.14125816],\n",
       "       [ 0.41335811, -0.50914092],\n",
       "       [-1.17132697,  0.2353532 ],\n",
       "       [ 0.78622519,  0.08645438],\n",
       "       [-0.23915927, -0.1815635 ],\n",
       "       [-0.1459425 , -0.50914092],\n",
       "       [-1.73062759, -0.03266468],\n",
       "       [-0.42559281, -1.19407551],\n",
       "       [-0.42559281, -0.06244444],\n",
       "       [ 1.90482642,  2.17103792],\n",
       "       [ 0.87944196, -0.83671833],\n",
       "       [-1.26454374, -1.55143269],\n",
       "       [ 1.62517612,  1.60522239],\n",
       "       [-0.61202635, -1.67055175],\n",
       "       [ 0.50657488,  1.72434145],\n",
       "       [ 1.53195935, -0.03266468],\n",
       "       [ 0.87944196, -1.43231363],\n",
       "       [-0.70524312,  1.06918662],\n",
       "       [ 0.32014134,  0.02689485],\n",
       "       [ 0.1337078 ,  1.87324027],\n",
       "       [-0.23915927, -0.36024209],\n",
       "       [-0.05272574, -0.47936115],\n",
       "       [-1.45097728, -0.47936115],\n",
       "       [-1.35776051, -1.2834148 ],\n",
       "       [-1.17132697,  0.56293062],\n",
       "       [-0.1459425 , -0.56870045],\n",
       "       [ 1.81160965, -1.34297433],\n",
       "       [ 0.41335811,  1.09896639],\n",
       "       [-0.98489343, -0.50914092],\n",
       "       [ 0.22692457, -0.71759927],\n",
       "       [ 0.1337078 ,  0.05667462],\n",
       "       [-0.23915927,  1.09896639],\n",
       "       [ 1.53195935,  1.09896639],\n",
       "       [ 1.71839288,  0.97984733],\n",
       "       [ 1.25230904, -1.43231363],\n",
       "       [ 2.09125996,  0.35447226],\n",
       "       [ 1.99804319, -1.25363504],\n",
       "       [ 0.32014134,  0.02689485],\n",
       "       [-0.23915927,  0.17579367],\n",
       "       [ 1.62517612, -0.95583739],\n",
       "       [-0.05272574,  0.26513297],\n",
       "       [ 0.78622519, -1.46209339],\n",
       "       [ 1.34552581, -1.49187316],\n",
       "       [-0.51880958, -1.58121245],\n",
       "       [-1.82384435, -0.56870045],\n",
       "       [-1.0781102 ,  0.26513297],\n",
       "       [ 0.87944196, -0.65803974],\n",
       "       [-0.23915927, -0.80693857],\n",
       "       [-0.23915927,  0.11623414],\n",
       "       [-1.63741082,  0.3246925 ],\n",
       "       [ 0.97265873,  0.74160921],\n",
       "       [-0.05272574,  0.08645438],\n",
       "       [ 1.99804319,  0.35447226],\n",
       "       [-0.51880958,  1.36698427],\n",
       "       [ 2.09125996,  1.09896639],\n",
       "       [ 0.22692457, -0.33046233],\n",
       "       [ 0.97265873,  0.08645438],\n",
       "       [-1.45097728, -0.24112303],\n",
       "       [ 1.0658755 ,  2.08169863],\n",
       "       [-0.98489343, -1.61099222],\n",
       "       [ 0.1337078 ,  0.17579367],\n",
       "       [-1.26454374, -1.31319457],\n",
       "       [-0.23915927, -1.52165292],\n",
       "       [-0.51880958,  0.44381156],\n",
       "       [ 0.69300842, -0.7771588 ],\n",
       "       [ 0.1337078 , -0.8664981 ],\n",
       "       [ 0.41335811,  0.56293062],\n",
       "       [-0.33237604,  1.30742474],\n",
       "       [-0.23915927, -0.39002186],\n",
       "       [-0.05272574, -0.41980162],\n",
       "       [-0.98489343, -0.39002186],\n",
       "       [-0.70524312, -0.2709028 ],\n",
       "       [-1.45097728, -1.31319457],\n",
       "       [ 1.81160965,  0.08645438],\n",
       "       [-1.73062759,  0.14601391],\n",
       "       [-1.17132697, -1.46209339],\n",
       "       [ 0.97265873, -1.13451598],\n",
       "       [ 0.41335811,  0.26513297],\n",
       "       [-0.70524312,  0.53315085],\n",
       "       [-0.98489343,  0.74160921],\n",
       "       [-0.89167666,  0.41403179],\n",
       "       [ 0.97265873,  1.87324027],\n",
       "       [ 0.1337078 ,  1.03940686],\n",
       "       [ 0.32014134, -0.7771588 ],\n",
       "       [-0.98489343, -1.19407551],\n",
       "       [-0.51880958,  0.86072827],\n",
       "       [-0.61202635,  0.08645438],\n",
       "       [ 0.32014134, -0.56870045],\n",
       "       [ 0.22692457,  0.02689485],\n",
       "       [ 1.25230904,  1.87324027],\n",
       "       [ 0.04049103,  1.24786521],\n",
       "       [-0.05272574,  0.2353532 ],\n",
       "       [-0.23915927, -0.00288491],\n",
       "       [-1.17132697,  0.26513297],\n",
       "       [ 0.22692457, -0.30068256],\n",
       "       [-0.33237604, -0.83671833],\n",
       "       [-1.26454374, -0.47936115],\n",
       "       [-1.26454374, -1.16429575],\n",
       "       [ 0.69300842,  1.78390098],\n",
       "       [-0.89167666, -0.36024209],\n",
       "       [-0.05272574,  0.11623414],\n",
       "       [-0.89167666, -0.80693857],\n",
       "       [-1.26454374,  0.38425203],\n",
       "       [ 0.1337078 , -0.30068256],\n",
       "       [-0.23915927, -0.71759927],\n",
       "       [ 1.90482642, -0.71759927],\n",
       "       [-1.0781102 , -0.83671833],\n",
       "       [-0.05272574,  0.26513297],\n",
       "       [-0.1459425 , -0.33046233],\n",
       "       [-0.23915927, -0.95583739],\n",
       "       [-0.33237604, -0.83671833],\n",
       "       [ 0.32014134,  0.2353532 ],\n",
       "       [ 1.0658755 , -0.95583739],\n",
       "       [ 1.90482642, -0.98561716],\n",
       "       [-0.98489343,  0.50337109],\n",
       "       [ 0.41335811, -0.53892068],\n",
       "       [-0.42559281, -0.33046233],\n",
       "       [-0.23915927, -0.47936115],\n",
       "       [ 0.87944196, -0.71759927],\n",
       "       [ 1.0658755 ,  0.53315085],\n",
       "       [ 0.04049103,  1.21808545],\n",
       "       [-0.61202635, -0.15178374],\n",
       "       [ 0.04049103, -0.62825998],\n",
       "       [-0.23915927,  0.2353532 ],\n",
       "       [ 1.99804319,  0.14601391],\n",
       "       [ 0.69300842, -1.46209339],\n",
       "       [ 0.78622519,  0.2353532 ],\n",
       "       [ 1.0658755 ,  0.50337109],\n",
       "       [ 1.34552581,  1.27764498],\n",
       "       [ 0.32014134,  0.26513297],\n",
       "       [ 0.59979165,  2.0221391 ],\n",
       "       [-0.05272574,  0.02689485],\n",
       "       [ 0.97265873,  1.4265438 ],\n",
       "       [-0.51880958,  1.45632356],\n",
       "       [-1.17132697, -1.13451598],\n",
       "       [ 1.15909227, -1.04517669],\n",
       "       [-0.79845989,  0.35447226],\n",
       "       [-0.23915927, -1.43231363],\n",
       "       [-1.63741082, -1.43231363],\n",
       "       [ 0.87944196, -1.10473622],\n",
       "       [-1.54419405,  0.02689485],\n",
       "       [ 0.22692457, -0.41980162],\n",
       "       [-0.98489343, -0.39002186],\n",
       "       [-0.23915927, -0.62825998],\n",
       "       [ 0.22692457,  0.11623414],\n",
       "       [ 0.97265873,  1.78390098],\n",
       "       [ 0.41335811,  0.05667462],\n",
       "       [-0.89167666,  0.2353532 ],\n",
       "       [-0.23915927, -0.53892068],\n",
       "       [-1.0781102 ,  0.38425203],\n",
       "       [-0.98489343,  1.96257957],\n",
       "       [ 0.32014134, -1.22385528],\n",
       "       [-0.1459425 , -1.13451598],\n",
       "       [-0.98489343,  0.38425203],\n",
       "       [ 0.97265873,  1.99235933],\n",
       "       [ 2.09125996, -0.8664981 ],\n",
       "       [-1.82384435,  0.44381156],\n",
       "       [-0.61202635, -0.00288491],\n",
       "       [-0.89167666, -0.47936115],\n",
       "       [-1.0781102 ,  0.29491273],\n",
       "       [-1.54419405, -1.64077198],\n",
       "       [ 0.69300842, -1.16429575],\n",
       "       [ 1.34552581,  2.34971651],\n",
       "       [-0.61202635, -0.39002186],\n",
       "       [-0.42559281, -0.59848021],\n",
       "       [-1.73062759, -1.49187316],\n",
       "       [ 0.87944196, -1.52165292],\n",
       "       [ 1.53195935,  0.97984733],\n",
       "       [-1.35776051, -1.52165292],\n",
       "       [-1.0781102 , -1.67055175],\n",
       "       [-1.17132697,  0.47359132],\n",
       "       [-1.63741082, -1.04517669],\n",
       "       [ 0.41335811, -0.1815635 ],\n",
       "       [ 0.78622519, -0.89627786],\n",
       "       [-1.26454374, -0.39002186],\n",
       "       [ 0.04049103,  0.26513297],\n",
       "       [-1.73062759, -1.55143269],\n",
       "       [-1.63741082,  0.44381156],\n",
       "       [-0.61202635,  0.53315085],\n",
       "       [ 0.1337078 , -0.00288491],\n",
       "       [ 0.32014134, -0.56870045],\n",
       "       [-0.61202635, -0.09222421],\n",
       "       [-1.35776051,  0.3246925 ],\n",
       "       [-0.23915927, -0.98561716],\n",
       "       [ 0.41335811,  0.97984733],\n",
       "       [-0.89167666,  0.47359132],\n",
       "       [ 0.22692457, -0.00288491],\n",
       "       [-1.45097728, -1.58121245],\n",
       "       [ 0.69300842,  0.2353532 ],\n",
       "       [ 1.15909227,  0.50337109],\n",
       "       [-0.42559281,  1.24786521],\n",
       "       [-0.1459425 ,  2.17103792],\n",
       "       [-0.05272574, -0.03266468],\n",
       "       [ 0.1337078 ,  0.11623414],\n",
       "       [ 0.41335811,  2.31993675],\n",
       "       [-0.23915927,  0.11623414],\n",
       "       [ 0.04049103, -0.36024209],\n",
       "       [ 2.09125996, -1.10473622],\n",
       "       [ 0.41335811, -0.21134327],\n",
       "       [ 1.43874258,  2.14125816],\n",
       "       [-0.98489343,  0.53315085],\n",
       "       [-0.42559281, -0.89627786],\n",
       "       [ 0.87944196,  1.06918662],\n",
       "       [-0.51880958,  1.36698427],\n",
       "       [-0.70524312,  1.90302004],\n",
       "       [ 0.04049103, -0.47936115],\n",
       "       [-0.05272574,  0.17579367],\n",
       "       [ 0.97265873,  0.56293062],\n",
       "       [-1.63741082, -0.65803974],\n",
       "       [ 0.32014134, -0.59848021],\n",
       "       [-0.05272574, -0.00288491],\n",
       "       [ 1.90482642,  0.71182944],\n",
       "       [-0.1459425 ,  0.8309485 ],\n",
       "       [-0.79845989,  0.26513297],\n",
       "       [-0.23915927, -1.3727541 ],\n",
       "       [-0.70524312, -1.67055175],\n",
       "       [-0.89167666,  0.53315085],\n",
       "       [ 0.87944196, -1.22385528],\n",
       "       [ 0.1337078 , -0.36024209],\n",
       "       [ 1.0658755 , -1.04517669],\n",
       "       [-0.70524312,  1.33720451],\n",
       "       [ 0.32014134,  0.47359132],\n",
       "       [ 1.0658755 ,  0.08645438],\n",
       "       [-1.26454374, -1.43231363],\n",
       "       [-0.70524312, -0.65803974],\n",
       "       [-0.89167666, -0.36024209],\n",
       "       [-0.05272574, -0.2709028 ],\n",
       "       [ 1.15909227, -1.52165292]])"
      ]
     },
     "execution_count": 13,
     "metadata": {},
     "output_type": "execute_result"
    }
   ],
   "source": [
    "X_train"
   ]
  },
  {
   "cell_type": "code",
   "execution_count": 14,
   "metadata": {},
   "outputs": [],
   "source": [
    "from sklearn.svm import SVC"
   ]
  },
  {
   "cell_type": "code",
   "execution_count": 15,
   "metadata": {},
   "outputs": [],
   "source": [
    "classifier = SVC(kernel='linear')"
   ]
  },
  {
   "cell_type": "code",
   "execution_count": 16,
   "metadata": {},
   "outputs": [
    {
     "data": {
      "text/plain": [
       "SVC(C=1.0, cache_size=200, class_weight=None, coef0=0.0,\n",
       "  decision_function_shape='ovr', degree=3, gamma='auto', kernel='linear',\n",
       "  max_iter=-1, probability=False, random_state=None, shrinking=True,\n",
       "  tol=0.001, verbose=False)"
      ]
     },
     "execution_count": 16,
     "metadata": {},
     "output_type": "execute_result"
    }
   ],
   "source": [
    "classifier.fit(X_train,y_train)"
   ]
  },
  {
   "cell_type": "code",
   "execution_count": 17,
   "metadata": {},
   "outputs": [],
   "source": [
    "y_predictor = classifier.predict(X_test)"
   ]
  },
  {
   "cell_type": "code",
   "execution_count": 18,
   "metadata": {},
   "outputs": [
    {
     "data": {
      "text/plain": [
       "array([0, 0, 1, 0, 0, 0, 0, 1, 0, 0, 1, 1, 0, 0, 0, 1, 1, 0, 0, 0, 1, 0,\n",
       "       1, 0, 0, 0, 0, 0, 0, 0, 1, 0, 1, 0, 1, 0, 0, 1, 0, 0, 0, 0, 0, 0,\n",
       "       1, 0, 0, 1, 0, 0, 0, 0, 0, 0, 0, 0, 0, 0, 0, 1, 0, 1, 0, 0, 0, 1,\n",
       "       0, 1, 0, 0, 0, 0, 0, 0, 1, 1, 0, 0, 1, 1], dtype=int64)"
      ]
     },
     "execution_count": 18,
     "metadata": {},
     "output_type": "execute_result"
    }
   ],
   "source": [
    "y_predictor"
   ]
  },
  {
   "cell_type": "code",
   "execution_count": 19,
   "metadata": {},
   "outputs": [],
   "source": [
    "from sklearn.metrics import confusion_matrix"
   ]
  },
  {
   "cell_type": "code",
   "execution_count": 20,
   "metadata": {},
   "outputs": [],
   "source": [
    "cm = confusion_matrix(y_test,y_predictor)"
   ]
  },
  {
   "cell_type": "code",
   "execution_count": 21,
   "metadata": {},
   "outputs": [
    {
     "data": {
      "text/plain": [
       "array([[50,  4],\n",
       "       [ 8, 18]], dtype=int64)"
      ]
     },
     "execution_count": 21,
     "metadata": {},
     "output_type": "execute_result"
    }
   ],
   "source": [
    "cm"
   ]
  },
  {
   "cell_type": "code",
   "execution_count": 23,
   "metadata": {},
   "outputs": [
    {
     "data": {
      "text/plain": [
       "<matplotlib.legend.Legend at 0x29f19334048>"
      ]
     },
     "execution_count": 23,
     "metadata": {},
     "output_type": "execute_result"
    },
    {
     "data": {
      "image/png": "[encoded data removed]",
      "text/plain": [
       "<Figure size 432x288 with 1 Axes>"
      ]
     },
     "metadata": {},
     "output_type": "display_data"
    }
   ],
   "source": [
    "# Visualising the Training set results\n",
    "from matplotlib.colors import ListedColormap\n",
    "X_point, y_point = X_train, y_train\n",
    "X1, X2 = np.meshgrid(np.arange(start = X_point[:, 0].min() - 1, stop = X_point[:, 0].max() + 1, step = 0.01),\n",
    "                     np.arange(start = X_point[:, 1].min() - 1, stop = X_point[:, 1].max() + 1, step = 0.01))\n",
    "plt.contourf(X1, X2, classifier.predict(np.array([X1.ravel(), X2.ravel()]).T).reshape(X1.shape),\n",
    "             alpha = 0.75, cmap = ListedColormap(('red', 'green')))\n",
    "plt.xlim(X1.min(), X1.max())\n",
    "plt.ylim(X2.min(), X2.max())\n",
    "for i, j in enumerate(np.unique(y_point)):\n",
    "    plt.scatter(X_point[y_point == j, 0], X_point[y_point == j, 1],\n",
    "                c = ListedColormap(('black', 'white'))(i), label = j)\n",
    "plt.title('SVM')\n",
    "plt.xlabel('Age')\n",
    "plt.ylabel('Salary')\n",
    "plt.legend()\n"
   ]
  },
  {
   "cell_type": "code",
   "execution_count": null,
   "metadata": {},
   "outputs": [],
   "source": []
  }
 ],
 "metadata": {
  "kernelspec": {
   "display_name": "Python 3",
   "language": "python",
   "name": "python3"
  },
  "language_info": {
   "codemirror_mode": {
    "name": "ipython",
    "version": 3
   },
   "file_extension": ".py",
   "mimetype": "text/x-python",
   "name": "python",
   "nbconvert_exporter": "python",
   "pygments_lexer": "ipython3",
   "version": "3.6.5"
  }
 },
 "nbformat": 4,
 "nbformat_minor": 2
}
